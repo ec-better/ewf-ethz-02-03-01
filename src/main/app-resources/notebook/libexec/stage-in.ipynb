{
 "cells": [
  {
   "cell_type": "code",
   "execution_count": null,
   "metadata": {},
   "outputs": [],
   "source": [
    "import os\n",
    "import cioppy\n",
    "import getpass"
   ]
  },
  {
   "cell_type": "code",
   "execution_count": null,
   "metadata": {},
   "outputs": [],
   "source": [
    "ciop = cioppy.Cioppy()"
   ]
  },
  {
   "cell_type": "code",
   "execution_count": null,
   "metadata": {},
   "outputs": [],
   "source": [
    "data_path = '/workspace/data'"
   ]
  },
  {
   "cell_type": "code",
   "execution_count": null,
   "metadata": {},
   "outputs": [],
   "source": [
    "username = getpass.getpass(\"Enter your username:\")\n",
    "api_key = getpass.getpass(\"Enter the API key:\")"
   ]
  },
  {
   "cell_type": "code",
   "execution_count": null,
   "metadata": {},
   "outputs": [],
   "source": [
    "if not os.path.isdir(data_path):\n",
    "    os.makedirs(data_path)"
   ]
  },
  {
   "cell_type": "code",
   "execution_count": null,
   "metadata": {},
   "outputs": [],
   "source": [
    "input_references = ['https://catalog.terradue.com/better-ethz-02-01-01/search?uid=F4636C8462A88D225393E23281C011ED477B22A7']"
   ]
  },
  {
   "cell_type": "code",
   "execution_count": null,
   "metadata": {},
   "outputs": [],
   "source": [
    "# Sakurajima 31.614,130.658\n",
    "input_references = ['https://catalog.terradue.com/better-ethz-02-01-01/search?uid=C858B8C24E1B7ED261F1B0D9AF04A39DB11B1C82']"
   ]
  },
  {
   "cell_type": "code",
   "execution_count": null,
   "metadata": {},
   "outputs": [],
   "source": [
    "# Mount Merapi -7.507,110.452\n",
    "input_references = ['https://catalog.terradue.com/better-ethz-02-01-01/search?uid=BDB9FD29E55F127A9874877E0D662F5D95C356E0']"
   ]
  },
  {
   "cell_type": "code",
   "execution_count": null,
   "metadata": {},
   "outputs": [],
   "source": [
    "import os\n",
    "import getpass\n",
    "\n",
    "vm_user = getpass.getuser()\n",
    "os.environ['HOME'] = '/home/{}'.format(vm_user)"
   ]
  },
  {
   "cell_type": "code",
   "execution_count": null,
   "metadata": {},
   "outputs": [],
   "source": [
    "for input_reference in input_references:\n",
    "    \n",
    "    enclosure = ciop.search(end_point=input_reference,\n",
    "                              params=[('do', 'terradue')],\n",
    "                              output_fields='enclosure',\n",
    "                              model='EOP')[0]['enclosure']\n",
    "\n",
    "    print enclosure\n",
    "    \n",
    "    retrieved = ciop.copy(enclosure, data_path, extract=True, credentials='{}:{}'.format(username, api_key))"
   ]
  },
  {
   "cell_type": "code",
   "execution_count": null,
   "metadata": {},
   "outputs": [],
   "source": []
  }
 ],
 "metadata": {
  "kernelspec": {
   "display_name": "Python 2",
   "language": "python",
   "name": "python2"
  },
  "language_info": {
   "codemirror_mode": {
    "name": "ipython",
    "version": 2
   },
   "file_extension": ".py",
   "mimetype": "text/x-python",
   "name": "python",
   "nbconvert_exporter": "python",
   "pygments_lexer": "ipython2",
   "version": "2.7.12"
  }
 },
 "nbformat": 4,
 "nbformat_minor": 2
}

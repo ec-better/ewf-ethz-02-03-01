{
 "cells": [
  {
   "cell_type": "markdown",
   "metadata": {
    "slideshow": {
     "slide_type": "skip"
    }
   },
   "source": [
    "## Systematic modelling of surface deformation at active volcanoes\n",
    "### ethz-02-03-01"
   ]
  },
  {
   "cell_type": "markdown",
   "metadata": {},
   "source": [
    "This application takes Surface displacement retrieved with DInSAR at active volcanoes to retrieve a first orde estimate of the volume change in the subsurface."
   ]
  },
  {
   "cell_type": "markdown",
   "metadata": {},
   "source": [
    "### <a name=\"service\">Service definition"
   ]
  },
  {
   "cell_type": "code",
   "execution_count": null,
   "metadata": {
    "collapsed": true
   },
   "outputs": [],
   "source": [
    "service = dict([('title', 'Systematic modelling of surface deformation at active volcanoes'),\n",
    "                ('abstract', 'Systematic modelling of surface deformation at active volcanoes'),\n",
    "                ('id', 'ewf-ethz-02-03-01')])"
   ]
  },
  {
   "cell_type": "code",
   "execution_count": null,
   "metadata": {},
   "outputs": [],
   "source": [
    "coordinates = dict([('id', 'coordinates'),\n",
    "                    ('title', 'coordinates'),\n",
    "                    ('abstract', 'Approx Coordinates fo the co-seismic signal (Lat, Lon)'),\n",
    "                    ('value', '-7.426,110.441')])"
   ]
  },
  {
   "cell_type": "code",
   "execution_count": null,
   "metadata": {},
   "outputs": [],
   "source": [
    "buffer_aoi = dict([('id', 'buffer_aoi'),\n",
    "                   ('title', 'buffer_aoi'),\n",
    "                   ('abstract', 'Buffer AOI (degrees)'),\n",
    "                   ('value', '0.075')])"
   ]
  },
  {
   "cell_type": "code",
   "execution_count": null,
   "metadata": {},
   "outputs": [],
   "source": [
    "downsampling = dict([('id', 'downsampling'),\n",
    "                     ('title', 'downsampling'),\n",
    "                     ('abstract', 'Downsampling for speed (0.05-1)'),\n",
    "                     ('value', '0.2')])"
   ]
  },
  {
   "cell_type": "code",
   "execution_count": null,
   "metadata": {},
   "outputs": [],
   "source": [
    "los_angle = dict([('id', 'los_angle'),\n",
    "                  ('title', 'los_angle'),\n",
    "                  ('abstract', 'LOS angles of the satellite (incidence33-43 for S1, azimuth, +15 Descending, -15 Ascending)'),\n",
    "                  ('value', '40,-15')])"
   ]
  },
  {
   "cell_type": "code",
   "execution_count": null,
   "metadata": {},
   "outputs": [],
   "source": [
    "_T2Username = dict([('id', '_T2Username'),\n",
    "                    ('title', 'T2Username'),\n",
    "                    ('abstract', 'Terradue username'),\n",
    "                    ('value', 'apisani')])"
   ]
  },
  {
   "cell_type": "code",
   "execution_count": null,
   "metadata": {},
   "outputs": [],
   "source": [
    "_T2ApiKey = dict([('id', '_T2ApiKey'),\n",
    "                  ('title', 'T2ApiKey'),\n",
    "                  ('abstract', 'Terradue api_key'),\n",
    "                  ('value', 'AKCp5cbcp6jQihbsinxxoD9s78vDvdspUAFhb1PAJB5y3r7xDEAGU7rZ2gG9YzjQhFFWuMk9V')])"
   ]
  },
  {
   "cell_type": "markdown",
   "metadata": {},
   "source": [
    "### Runtime parameter definition"
   ]
  },
  {
   "cell_type": "markdown",
   "metadata": {},
   "source": [
    "**Input identifier**\n",
    "\n",
    "Product identifier"
   ]
  },
  {
   "cell_type": "code",
   "execution_count": null,
   "metadata": {},
   "outputs": [],
   "source": [
    "input_identifier = ('F4636C8462A88D225393E23281C011ED477B22A7')"
   ]
  },
  {
   "cell_type": "markdown",
   "metadata": {},
   "source": [
    "**Input reference**\n",
    "\n",
    "Catalogue reference"
   ]
  },
  {
   "cell_type": "code",
   "execution_count": null,
   "metadata": {},
   "outputs": [],
   "source": [
    "input_reference = ('https://catalog.terradue.com/better-ethz-02-01-01/search?format=atom&uid=F4636C8462A88D225393E23281C011ED477B22A7')"
   ]
  },
  {
   "cell_type": "markdown",
   "metadata": {
    "slideshow": {
     "slide_type": "slide"
    }
   },
   "source": [
    "**Data path**\n",
    "\n",
    "This path defines where the data is staged-in. "
   ]
  },
  {
   "cell_type": "code",
   "execution_count": null,
   "metadata": {
    "collapsed": true
   },
   "outputs": [],
   "source": [
    "data_path = '/workspace/data'"
   ]
  },
  {
   "cell_type": "markdown",
   "metadata": {},
   "source": [
    "#### Import the packages required for processing the data"
   ]
  },
  {
   "cell_type": "code",
   "execution_count": null,
   "metadata": {},
   "outputs": [],
   "source": [
    "import os\n",
    "import sys\n",
    "import subprocess\n",
    "\n",
    "sys.path.append('/application/notebook/libexec/') \n",
    "sys.path.append(os.getcwd())\n",
    "\n",
    "from ellip_helpers import create_metadata\n",
    "\n",
    "import gdal\n",
    "import cioppy\n",
    "ciop = cioppy.Cioppy()"
   ]
  },
  {
   "cell_type": "markdown",
   "metadata": {},
   "source": [
    "### Product check"
   ]
  },
  {
   "cell_type": "code",
   "execution_count": null,
   "metadata": {},
   "outputs": [],
   "source": [
    "search = ciop.search(end_point=input_reference,\n",
    "                     params=[('do', 'terradue')],\n",
    "                     output_fields='enclosure, startdate, enddate, wkt',\n",
    "                     model='EOP')[0]\n",
    "\n",
    "enclosure = search['enclosure']\n",
    "product = os.path.basename(enclosure)"
   ]
  },
  {
   "cell_type": "code",
   "execution_count": null,
   "metadata": {},
   "outputs": [],
   "source": [
    "product_path = os.path.join(data_path, product)\n",
    "\n",
    "print 'Searching:', product_path\n",
    "\n",
    "if os.path.isfile(product_path):\n",
    "    print \"Product {} Retrieved\".format(product)\n",
    "else:\n",
    "    raise(Exception(\"Product {} with reference {} not found in data path {}\".format(product, input_reference, data_path)))"
   ]
  },
  {
   "cell_type": "code",
   "execution_count": null,
   "metadata": {},
   "outputs": [],
   "source": [
    "ciop.copy(product_path, '.')"
   ]
  },
  {
   "cell_type": "markdown",
   "metadata": {},
   "source": [
    "### <a name=\"workflow\">Workflow"
   ]
  },
  {
   "cell_type": "code",
   "execution_count": null,
   "metadata": {},
   "outputs": [],
   "source": [
    "if 'LD_LIBRARY_PATH' not in os.environ.keys():\n",
    "    os.environ['LD_LIBRARY_PATH'] = '/opt/v94/runtime/glnxa64:/opt/v94/bin/glnxa64:/opt/v94/sys/os/glnxa64:/opt/v94/extern/bin/glnxa64'\n",
    "else:\n",
    "    os.environ['LD_LIBRARY_PATH'] = '/opt/v94/runtime/glnxa64:/opt/v94/bin/glnxa64:/opt/v94/sys/os/glnxa64:/opt/v94/extern/bin/glnxa64:' + os.environ['LD_LIBRARY_PATH']\n",
    "    \n",
    "import run_inverse_model"
   ]
  },
  {
   "cell_type": "markdown",
   "metadata": {},
   "source": [
    "#### Creating the input_modeling  file"
   ]
  },
  {
   "cell_type": "code",
   "execution_count": null,
   "metadata": {},
   "outputs": [],
   "source": [
    "with open('input_modeling.txt', 'wb') as file:\n",
    "    file.write('{}\\n'.format(product))\n",
    "    file.write('{} {}\\n'.format(coordinates['value'].split(',')[0], coordinates['value'].split(',')[1]))\n",
    "    file.write('{}\\n'.format(buffer_aoi['value']))\n",
    "    file.write('{}\\n'.format(downsampling['value']))\n",
    "    file.write('{} {}\\n'.format(los_angle['value'].split(',')[0], los_angle['value'].split(',')[1]))"
   ]
  },
  {
   "cell_type": "code",
   "execution_count": null,
   "metadata": {},
   "outputs": [],
   "source": [
    "with open('input_modeling.txt') as file:\n",
    "    print file.read()"
   ]
  },
  {
   "cell_type": "code",
   "execution_count": null,
   "metadata": {},
   "outputs": [],
   "source": [
    "command = 'import run_inverse_model; mr = run_inverse_model.initialize(); mr.run_inverse_model(\\\"input_modeling.txt\\\", nargout=0)'\n",
    "\n",
    "options = ['python',\n",
    "           '-c',\n",
    "           command,\n",
    "          ]\n",
    "\n",
    "print options"
   ]
  },
  {
   "cell_type": "code",
   "execution_count": null,
   "metadata": {},
   "outputs": [],
   "source": [
    "p = subprocess.Popen(options,\n",
    "                     stdout=subprocess.PIPE,\n",
    "                     stdin=subprocess.PIPE,\n",
    "                     stderr=subprocess.PIPE)\n",
    "\n",
    "res, err = p.communicate()\n",
    "\n",
    "print(res)\n",
    "print(err)"
   ]
  },
  {
   "cell_type": "markdown",
   "metadata": {},
   "source": [
    "#### Read the geo_transform and the projection from the input"
   ]
  },
  {
   "cell_type": "code",
   "execution_count": null,
   "metadata": {},
   "outputs": [],
   "source": [
    "src = gdal.Open(product_path)\n",
    "\n",
    "geo_transform = src.GetGeoTransform()\n",
    "projection = src.GetProjection()\n",
    "\n",
    "src.FlushCache()"
   ]
  },
  {
   "cell_type": "code",
   "execution_count": null,
   "metadata": {},
   "outputs": [],
   "source": [
    "os.listdir('./')"
   ]
  },
  {
   "cell_type": "markdown",
   "metadata": {},
   "source": [
    "#### Get the output file list"
   ]
  },
  {
   "cell_type": "code",
   "execution_count": null,
   "metadata": {},
   "outputs": [],
   "source": [
    "os.remove(product)\n",
    "os.remove(\"input_modeling.txt\")"
   ]
  },
  {
   "cell_type": "code",
   "execution_count": null,
   "metadata": {},
   "outputs": [],
   "source": [
    "os.listdir('./')"
   ]
  },
  {
   "cell_type": "code",
   "execution_count": null,
   "metadata": {},
   "outputs": [],
   "source": [
    "output_file = list()\n",
    "\n",
    "for file in os.listdir('.'):\n",
    "    if '.mat' in file:\n",
    "        output_file.append(file)\n",
    "        \n",
    "output_file"
   ]
  },
  {
   "cell_type": "code",
   "execution_count": null,
   "metadata": {},
   "outputs": [],
   "source": [
    "os.listdir('./')"
   ]
  },
  {
   "cell_type": "markdown",
   "metadata": {},
   "source": [
    "#### Create the geo_transform and the projection file txt"
   ]
  },
  {
   "cell_type": "code",
   "execution_count": null,
   "metadata": {},
   "outputs": [],
   "source": [
    "trf = {'geo_transform' : geo_transform,\n",
    "        'projection' : projection}\n",
    "\n",
    "with open('geo_transform_projection.txt', 'wb') as file:\n",
    "    file.write(str(trf))\n",
    "    file.close()"
   ]
  },
  {
   "cell_type": "code",
   "execution_count": null,
   "metadata": {},
   "outputs": [],
   "source": [
    "with open('geo_transform_projection.txt') as f:\n",
    "    print f.read()"
   ]
  },
  {
   "cell_type": "code",
   "execution_count": null,
   "metadata": {},
   "outputs": [],
   "source": [
    "os.listdir('./')"
   ]
  },
  {
   "cell_type": "markdown",
   "metadata": {},
   "source": [
    "for file in output_file:\n",
    "    ds = gdal.Open(file, gdal.OF_UPDATE)\n",
    "    \n",
    "    ds.SetGeoTransform(geo_transform)\n",
    "    ds.SetProjection(projection)\n",
    "    \n",
    "    ds.FlushCache()\n",
    "    \n",
    "    print gdal.Info(file)"
   ]
  },
  {
   "cell_type": "code",
   "execution_count": null,
   "metadata": {},
   "outputs": [],
   "source": [
    "metadata = dict()\n",
    "\n",
    "metadata['startdate'] = search['startdate']\n",
    "metadata['enddate'] = search['enddate']\n",
    "metadata['wkt'] = search['wkt']\n",
    "\n",
    "metadata"
   ]
  },
  {
   "cell_type": "code",
   "execution_count": null,
   "metadata": {},
   "outputs": [],
   "source": [
    "os.listdir('./')"
   ]
  },
  {
   "cell_type": "code",
   "execution_count": null,
   "metadata": {},
   "outputs": [],
   "source": [
    "output_file.append('geo_transform_projection.txt')"
   ]
  },
  {
   "cell_type": "code",
   "execution_count": null,
   "metadata": {},
   "outputs": [],
   "source": [
    "for file in output_file:\n",
    "    print os.path.splitext(file)[0]\n",
    "\n",
    "    metadata['identifier'] = os.path.splitext(file)[0]\n",
    "    metadata['title'] = metadata['identifier']\n",
    "    create_metadata(metadata, metadata['identifier'])"
   ]
  },
  {
   "cell_type": "code",
   "execution_count": null,
   "metadata": {},
   "outputs": [],
   "source": [
    "os.listdir('./')"
   ]
  },
  {
   "cell_type": "markdown",
   "metadata": {},
   "source": [
    "### License"
   ]
  },
  {
   "cell_type": "markdown",
   "metadata": {
    "slideshow": {
     "slide_type": "subslide"
    }
   },
   "source": [
    "This work is licenced under a [Attribution-ShareAlike 4.0 International License (CC BY-SA 4.0)](http://creativecommons.org/licenses/by-sa/4.0/) \n",
    "\n",
    "YOU ARE FREE TO:\n",
    "\n",
    "* Share - copy and redistribute the material in any medium or format.\n",
    "* Adapt - remix, transform, and built upon the material for any purpose, even commercially.\n",
    "\n",
    "UNDER THE FOLLOWING TERMS:\n",
    "\n",
    "* Attribution - You must give appropriate credit, provide a link to the license, and indicate if changes were made. You may do so in any reasonable manner, but not in any way that suggests the licensor endorses you or your use.\n",
    "* ShareAlike - If you remix, transform, or build upon the material, you must distribute your contributions under the same license as the original."
   ]
  }
 ],
 "metadata": {
  "kernelspec": {
   "display_name": "Python 2",
   "language": "python",
   "name": "python2"
  },
  "language_info": {
   "codemirror_mode": {
    "name": "ipython",
    "version": 2
   },
   "file_extension": ".py",
   "mimetype": "text/x-python",
   "name": "python",
   "nbconvert_exporter": "python",
   "pygments_lexer": "ipython2",
   "version": "2.7.12"
  }
 },
 "nbformat": 4,
 "nbformat_minor": 2
}
